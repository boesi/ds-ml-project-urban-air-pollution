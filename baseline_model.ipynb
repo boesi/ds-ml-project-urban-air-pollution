{
 "cells": [
  {
   "cell_type": "code",
   "execution_count": 2,
   "id": "f400a52b",
   "metadata": {},
   "outputs": [],
   "source": [
    "import functions.uap as uap\n",
    "import pickle as pk\n",
    "\n",
    "from sklearn.linear_model import LogisticRegression, LinearRegression"
   ]
  },
  {
   "cell_type": "code",
   "execution_count": 3,
   "id": "313d62f5",
   "metadata": {},
   "outputs": [],
   "source": [
    "df = uap.get_data()"
   ]
  },
  {
   "cell_type": "code",
   "execution_count": null,
   "id": "19207060",
   "metadata": {},
   "outputs": [
    {
     "name": "stdout",
     "output_type": "stream",
     "text": [
      "target\n",
      "25.0     924\n",
      "21.0     877\n",
      "17.0     824\n",
      "30.0     780\n",
      "34.0     670\n",
      "        ... \n",
      "320.0      1\n",
      "13.8       1\n",
      "14.8       1\n",
      "410.0      1\n",
      "228.0      1\n",
      "Name: count, Length: 358, dtype: int64\n"
     ]
    },
    {
     "data": {
      "text/markdown": [
       "\n",
       "|Score|Test|Train|\n",
       "|:--|--:|--:|\n",
       "|MAE|19.557|19.054|\n",
       "|MSE|849.519|787.234|\n",
       "|R² Score|0.614|0.641|\n"
      ],
      "text/plain": [
       "<IPython.core.display.Markdown object>"
      ]
     },
     "metadata": {},
     "output_type": "display_data"
    }
   ],
   "source": [
    "X_train, X_test, y_train, y_test = uap.get_baseline_data(df, 'target')\n",
    "reg_base_model = LinearRegression()\n",
    "reg_base_model.fit(X_train, y_train)\n",
    "uap.check_regression(reg_base_model, X_train, X_test, y_train, y_test)"
   ]
  },
  {
   "cell_type": "code",
   "execution_count": null,
   "id": "e7910f05",
   "metadata": {},
   "outputs": [
    {
     "ename": "AttributeError",
     "evalue": "'numpy.ndarray' object has no attribute 'value_counts'",
     "output_type": "error",
     "traceback": [
      "\u001b[31m---------------------------------------------------------------------------\u001b[39m",
      "\u001b[31mAttributeError\u001b[39m                            Traceback (most recent call last)",
      "\u001b[36mCell\u001b[39m\u001b[36m \u001b[39m\u001b[32mIn[6]\u001b[39m\u001b[32m, line 2\u001b[39m\n\u001b[32m      1\u001b[39m X_train_cat, X_test_cat, y_train_cat, y_test_cat, y_labels = uap.get_baseline_data(df, \u001b[33m'\u001b[39m\u001b[33mtarget_aqi\u001b[39m\u001b[33m'\u001b[39m, factorize_target=\u001b[38;5;28;01mTrue\u001b[39;00m)\n\u001b[32m----> \u001b[39m\u001b[32m2\u001b[39m \u001b[38;5;28mprint\u001b[39m(\u001b[43my_train_cat\u001b[49m\u001b[43m.\u001b[49m\u001b[43mvalue_counts\u001b[49m())\n\u001b[32m      4\u001b[39m cat_base_model_aqi = LogisticRegression()\n\u001b[32m      5\u001b[39m cat_base_model_aqi.fit(X_train_cat, y_train_cat)\n",
      "\u001b[31mAttributeError\u001b[39m: 'numpy.ndarray' object has no attribute 'value_counts'"
     ]
    }
   ],
   "source": [
    "X_train_cat, X_test_cat, y_train_cat, y_test_cat, y_labels = uap.get_baseline_data(df, 'target_aqi', factorize_target=True)\n",
    "\n",
    "cat_base_model_aqi = LogisticRegression()\n",
    "cat_base_model_aqi.fit(X_train_cat, y_train_cat)\n",
    "fig = uap.check_classification(cat_base_model_aqi, X_train_cat, X_test_cat, y_train_cat, y_test_cat, y_labels, train=False)\n",
    "fig.show()\n",
    "fig.savefig('images/model_baseline_aqi.png')"
   ]
  },
  {
   "cell_type": "code",
   "execution_count": 5,
   "id": "c2b25b22",
   "metadata": {},
   "outputs": [
    {
     "name": "stderr",
     "output_type": "stream",
     "text": [
      "/home/boesi/lessons/2025-05-06-ds-ml-project/.venv/lib/python3.11/site-packages/sklearn/linear_model/_logistic.py:465: ConvergenceWarning: lbfgs failed to converge (status=1):\n",
      "STOP: TOTAL NO. OF ITERATIONS REACHED LIMIT.\n",
      "\n",
      "Increase the number of iterations (max_iter) or scale the data as shown in:\n",
      "    https://scikit-learn.org/stable/modules/preprocessing.html\n",
      "Please also refer to the documentation for alternative solver options:\n",
      "    https://scikit-learn.org/stable/modules/linear_model.html#logistic-regression\n",
      "  n_iter_i = _check_optimize_result(\n",
      "/tmp/ipykernel_1136123/3553450198.py:5: UserWarning: Matplotlib is currently using module://matplotlib_inline.backend_inline, which is a non-GUI backend, so cannot show the figure.\n",
      "  fig.show()\n"
     ]
    },
    {
     "name": "stdout",
     "output_type": "stream",
     "text": [
      "--- Test data ---\n",
      "              precision    recall  f1-score   support\n",
      "\n",
      "     Healthy       0.93      0.96      0.94      5173\n",
      "   Unhealthy       0.72      0.63      0.67       939\n",
      "\n",
      "    accuracy                           0.91      6112\n",
      "   macro avg       0.83      0.79      0.81      6112\n",
      "weighted avg       0.90      0.91      0.90      6112\n",
      "\n"
     ]
    },
    {
     "data": {
      "image/png": "[encoded data removed]",
      "text/plain": [
       "<Figure size 600x400 with 2 Axes>"
      ]
     },
     "metadata": {
      "needs_background": "light"
     },
     "output_type": "display_data"
    }
   ],
   "source": [
    "X_train_cat, X_test_cat, y_train_cat, y_test_cat, y_labels = uap.get_baseline_data(df, 'target_health', factorize_target=True)\n",
    "cat_base_model_healthy = LogisticRegression()\n",
    "cat_base_model_healthy.fit(X_train_cat, y_train_cat)\n",
    "fig = uap.check_classification(cat_base_model_healthy, X_train_cat, X_test_cat, y_train_cat, y_test_cat, y_labels, train=False)\n",
    "fig.show()\n",
    "fig.savefig('images/model_baseline_health.png')"
   ]
  },
  {
   "cell_type": "code",
   "execution_count": 6,
   "id": "99c95d47",
   "metadata": {},
   "outputs": [],
   "source": [
    "with open('models/base_linreg_model.pkl', 'wb') as f:\n",
    "    pk.dump(reg_base_model, f)\n",
    "with open('models/base_logreg_model_aqi.pkl', 'wb') as f:\n",
    "    pk.dump(cat_base_model_aqi, f)\n",
    "with open('models/base_logreg_model_healthy.pkl', 'wb') as f:\n",
    "    pk.dump(cat_base_model_healthy, f)\n"
   ]
  }
 ],
 "metadata": {
  "kernelspec": {
   "display_name": ".venv",
   "language": "python",
   "name": "python3"
  },
  "language_info": {
   "codemirror_mode": {
    "name": "ipython",
    "version": 3
   },
   "file_extension": ".py",
   "mimetype": "text/x-python",
   "name": "python",
   "nbconvert_exporter": "python",
   "pygments_lexer": "ipython3",
   "version": "3.11.3"
  }
 },
 "nbformat": 4,
 "nbformat_minor": 5
}
